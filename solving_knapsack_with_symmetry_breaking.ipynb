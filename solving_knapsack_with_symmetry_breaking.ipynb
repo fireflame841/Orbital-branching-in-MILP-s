{
 "cells": [
  {
   "cell_type": "code",
   "execution_count": 2,
   "metadata": {},
   "outputs": [
    {
     "name": "stdout",
     "output_type": "stream",
     "text": [
      "[1. 1. 1. 1. 1. 0. 0. 0. 0. 1. 0.]\n",
      "[1. 1. 1. 1. 1. 0. 0. 0. 1. 1. 0.]\n",
      "[1. 1. 1. 1. 1. 0. 0. 1. 1. 1. 0.]\n",
      "[1. 1. 1. 1. 1. 0. 1. 1. 1. 1. 0.]\n",
      "[1. 1. 1. 1. 1. 1. 1. 1. 1. 1. 0.]\n",
      "(array([0., 1., 1., 1., 1., 0., 0., 0., 0., 1., 1.]), 1.0)\n",
      "21\n"
     ]
    }
   ],
   "source": [
    "import numpy as np\n",
    "\n",
    "def branch_and_bound(c, A, b):\n",
    "    fixed = []\n",
    "    for i in range(0,len(c)):\n",
    "        fixed.append(-1)\n",
    "    def solve_lp(c, A, b,fixed):\n",
    "        global count\n",
    "        count += 1\n",
    "        temp = c/A\n",
    "        x = np.zeros(len(c))\n",
    "        if sum(A*np.ones(len(A))) < b[0]:\n",
    "            return False\n",
    "        for i in range(0,len(x)):\n",
    "            if fixed[i] == 0:\n",
    "                x[i] = 0\n",
    "            if fixed[i] == 1:\n",
    "                x[i] = 1\n",
    "        if sum(x*A)>b[0]:\n",
    "            print(x)\n",
    "            return False\n",
    "        while True:\n",
    "            minind = temp.argmin()\n",
    "            if fixed[minind] == 1 or fixed[minind] == 0:\n",
    "                temp[minind] = 1000000000\n",
    "                continue\n",
    "            p = b-np.sum(A*x)\n",
    "            p = p[0]\n",
    "            if p/A[minind] <= 1:\n",
    "                x[minind] = p/A[minind]\n",
    "            else:\n",
    "                x[minind] = 1\n",
    "            temp[minind] = 1000000000\n",
    "            if sum(A*x) == b:\n",
    "                break\n",
    "        opt = np.sum(c*x)\n",
    "        return x,opt\n",
    "    \n",
    "    def int_check(x):\n",
    "        for i in x:\n",
    "            if i%1 != 0:\n",
    "                return False\n",
    "        return True\n",
    "\n",
    "\n",
    "    def branch(c, A, b, fixed):\n",
    "        res = solve_lp(c, A, b, fixed)\n",
    "        if res != False:\n",
    "            if int_check(res[0]):\n",
    "                return res\n",
    "            else:\n",
    "                for i in range(0,len(c)):\n",
    "                    if res[0][i]%1 != 0:\n",
    "                        non_int_index = i\n",
    "                        break \n",
    "                fixed[non_int_index] = 0\n",
    "                res_lower = branch(c, A, b, fixed)\n",
    "                fixed[non_int_index] = 1\n",
    "                res_upper = branch(c, A, b, fixed)\n",
    "                if res_lower == None and res_upper == None:\n",
    "                    return None\n",
    "                if res_lower == None:\n",
    "                    return res_upper\n",
    "                if res_upper == None:\n",
    "                    return res_lower\n",
    "                if res_lower[1] < res_upper[1]:\n",
    "                    return res_lower\n",
    "                else:\n",
    "                    return res_upper\n",
    "        else:\n",
    "            return None\n",
    "\n",
    "    return branch(c, A, b, fixed)\n",
    "# Example problem\n",
    "n = 10\n",
    "k = 5\n",
    "c = np.ones(n+1)\n",
    "A = np.ones(n+1)\n",
    "b = np.array([2*k + 1])\n",
    "\n",
    "for i in range(0,len(c)-1):\n",
    "    c[i] = 0\n",
    "    A[i] = 2\n",
    "\n",
    "\n",
    "count = 0\n",
    "\n",
    "res = branch_and_bound(c, A, b)\n",
    "print(res)\n",
    "print(count)\n"
   ]
  },
  {
   "cell_type": "code",
   "execution_count": 3,
   "metadata": {},
   "outputs": [
    {
     "data": {
      "text/plain": [
       "4"
      ]
     },
     "execution_count": 3,
     "metadata": {},
     "output_type": "execute_result"
    }
   ],
   "source": [
    "l = [1,2,3,4,6]\n",
    "l.index(max(l))"
   ]
  },
  {
   "cell_type": "code",
   "execution_count": null,
   "metadata": {},
   "outputs": [],
   "source": []
  }
 ],
 "metadata": {
  "kernelspec": {
   "display_name": "Python 3",
   "language": "python",
   "name": "python3"
  },
  "language_info": {
   "codemirror_mode": {
    "name": "ipython",
    "version": 3
   },
   "file_extension": ".py",
   "mimetype": "text/x-python",
   "name": "python",
   "nbconvert_exporter": "python",
   "pygments_lexer": "ipython3",
   "version": "3.10.1"
  }
 },
 "nbformat": 4,
 "nbformat_minor": 2
}
