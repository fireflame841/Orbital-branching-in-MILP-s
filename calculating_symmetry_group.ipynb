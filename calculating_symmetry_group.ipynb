{
 "cells": [
  {
   "cell_type": "code",
   "execution_count": 1,
   "metadata": {},
   "outputs": [
    {
     "name": "stdout",
     "output_type": "stream",
     "text": [
      "[(0, 1, 2), (0, 2, 1), (1, 0, 2), (1, 2, 0), (2, 0, 1), (2, 1, 0)]\n",
      "Symmetric group G:\n",
      "(0, 2, 1)\n",
      "(1, 2, 0)\n",
      "(2, 1, 0)\n",
      "(2, 0, 1)\n",
      "(0, 1, 2)\n",
      "(1, 0, 2)\n",
      "corresponding sigma\n",
      "(0, 2, 1)\n",
      "(1, 2, 0)\n",
      "(2, 1, 0)\n",
      "(2, 0, 1)\n",
      "(0, 1, 2)\n",
      "(1, 0, 2)\n"
     ]
    }
   ],
   "source": [
    "import itertools\n",
    "import numpy as np\n",
    "\n",
    "def calculate_symmetric_group(A):\n",
    "    m, n = A.shape\n",
    "    row_perms = list(itertools.permutations(range(m)))\n",
    "    col_perms = list(itertools.permutations(range(n)))\n",
    "    print(row_perms)\n",
    "    \n",
    "    G = set()\n",
    "    S = set()\n",
    "    for pi in col_perms:\n",
    "        for sigma in row_perms:\n",
    "            A_permuted = A[np.ix_(sigma,pi)]\n",
    "            if np.array_equal(A_permuted, A):\n",
    "                G.add(pi)\n",
    "                S.add(sigma)\n",
    "                break\n",
    "    \n",
    "    return G,S\n",
    "\n",
    "# Example matrix A\n",
    "A = np.array([[1,0,1],[1,1,0],[0,1,1]])\n",
    "\n",
    "G,S = calculate_symmetric_group(A)\n",
    "\n",
    "print(\"Symmetric group G:\")\n",
    "for pi in G:\n",
    "    print(pi)\n",
    "\n",
    "print(\"corresponding sigma\")\n",
    "for s in S:\n",
    "    print(s)\n",
    "\n"
   ]
  },
  {
   "cell_type": "code",
   "execution_count": null,
   "metadata": {},
   "outputs": [],
   "source": []
  }
 ],
 "metadata": {
  "kernelspec": {
   "display_name": "Python 3",
   "language": "python",
   "name": "python3"
  },
  "language_info": {
   "codemirror_mode": {
    "name": "ipython",
    "version": 3
   },
   "file_extension": ".py",
   "mimetype": "text/x-python",
   "name": "python",
   "nbconvert_exporter": "python",
   "pygments_lexer": "ipython3",
   "version": "3.10.1"
  }
 },
 "nbformat": 4,
 "nbformat_minor": 2
}
